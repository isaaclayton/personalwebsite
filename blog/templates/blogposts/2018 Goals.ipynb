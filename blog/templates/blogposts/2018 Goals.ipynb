{
 "cells": [
  {
   "cell_type": "markdown",
   "metadata": {},
   "source": [
    "2018 is going to be a great year. It's the year I change my name from Isaac Layton to Mr. Husband Isaac Layton. I'm going to be marrying the love of my life in May. I'm going to run a half marathon in April, and I'm going to try to run a triathlon in September. I want to read the whole Bible this year. Along with these ambitions, I have goals for improving myself in data science as well."
   ]
  },
  {
   "cell_type": "markdown",
   "metadata": {},
   "source": [
    "## Read at least half of [The Elements of Statistical Learning](https://web.stanford.edu/~hastie/ElemStatLearn/)\n",
    "\n",
    "I love this book, but only managed to get to Chapter 3 before getting sidetracked. I want to get a lot farther this upcoming year. This is a book that I don't mind taking my time through though, because of how jam packed it is with information. If I only get through a few chapters I'll still be satisfied."
   ]
  },
  {
   "cell_type": "markdown",
   "metadata": {},
   "source": [
    "## Finish CS224N, Stanford's class on Natural Language Processing\n",
    "\n",
    "In May, I started going through this course and really enjoyed learning about NLP in the context of deep learning. I'd like to spend a month or two finishing it. "
   ]
  },
  {
   "cell_type": "markdown",
   "metadata": {},
   "source": [
    "## One project per month\n",
    "\n",
    "For this goal, I'd like to have a diversity of projects that focus on a specific subset of statistics or programming that I'm learning about. It could be about the NLP class, about a topic in Elements of Statistical Learning, or about some dataset I'm interested in learning about. "
   ]
  },
  {
   "cell_type": "markdown",
   "metadata": {},
   "source": [
    "I'll try to post in my blog about these projects and what I aim on doing each month."
   ]
  }
 ],
 "metadata": {
  "kernelspec": {
   "display_name": "Python 3",
   "language": "python",
   "name": "python3"
  },
  "language_info": {
   "codemirror_mode": {
    "name": "ipython",
    "version": 3
   },
   "file_extension": ".py",
   "mimetype": "text/x-python",
   "name": "python",
   "nbconvert_exporter": "python",
   "pygments_lexer": "ipython3",
   "version": "3.5.1"
  }
 },
 "nbformat": 4,
 "nbformat_minor": 1
}
