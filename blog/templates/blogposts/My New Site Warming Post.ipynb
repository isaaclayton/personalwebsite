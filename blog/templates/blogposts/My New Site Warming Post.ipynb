{
 "cells": [
  {
   "cell_type": "markdown",
   "metadata": {},
   "source": [
    "Hi! Thanks for visiting my new website. It's been in the making for awhile and I'm really eager to get it started. This initial blog post is going to be used to talk about my experience with websites and blogs and what I want to accomplish with this website and this blog."
   ]
  },
  {
   "cell_type": "markdown",
   "metadata": {},
   "source": [
    "## My website and blog experience\n",
    "\n",
    "During the summer of 2011, my dad decided that he'd recruit me on a mission. One of his clients needed him to design a website for their shopping plaza. My dad is an expert in graphic design, but has no experience with coding. He knows how to make a great looking mockup for a website, but that's usually where it's handed off to someone else to implement. This time though, my dad had a great idea: his son still needed a summer job. Why not just have him do it? And so it began. Before this, my only experience with coding was watching Wade on Kim Possible hack into villains' mainframes. I had a lot to learn. My dad's friend let us use his Lynda.com login credentials, and I started to teach myself HTML and CSS. I used Dreamweaver as my IDE (integrated development environment) because it came packaged with my dad's version of Adobe. I started to learn about divs and z-indexes and slowly started to piece together a website. Since it didn't use any templates or frameworks and was the first time I had ever touched code, it probably wasn't the shining star of the internet. It did its job though, and it introduced me into the world of programming. I'd end up doing 2 more websites that summer.\n",
    "\n",
    "The next time I would touch HTML was a couple years later, when I would edit my blog theme on Tumblr. I started using Tumblr a month before I started my freshman year at Cal Poly. It was initially used to satiate my hunger for pictures of artsy pink skies and people in Birkenstocks holding coffee mugs. Later on, I started to lean towards following blogs that made jokes and gave me something to laugh at. I wanted to try my hand at this and started making posts that incorporated the humor I knew best: puns. Either people thought the puns were funny or they sadistically wanted new puns to groan at. Either way, I started to gain a lot of followers. By the end of my sophomore year of college, when I significantly toned down my activity on the blog, there was 93,000 amazing people who tuned into my daily jokes. It was an interesting experience that taught me so much. That being said, I don't expect this blog to share a whole lot of similarities. The probability is high that I'll add a joke here and there, but this blog is largely going to be related to statistics, programming, and my experiences learning and implementing both. I've never ran a blog like this before, but I'm excited about it. "
   ]
  },
  {
   "cell_type": "markdown",
   "metadata": {},
   "source": [
    "## What I want to accomplish \n",
    "\n",
    "My website is still a work in progress and will continuously be improving as I learn what works and what doesn't. Ideally this website will be around for a long time, so right now I have some short term goals (things I want to accomplish sometime within the next few months) and long term goals (things I want to accomplish within the next few years). Here they are:"
   ]
  },
  {
   "cell_type": "markdown",
   "metadata": {
    "collapsed": true
   },
   "source": [
    "### Short Term Goals\n",
    "\n",
    "• **Create an easy, more automated way of creating blog posts.** I'm using Jupyter Notebook to create these, and I've been manually converting each notebook to Markdown before publishing them. I'm sure there's a script I can write to make this process simpler.\n",
    "\n",
    "• **Create small JavaScript learning projects.** I want to eventually use d3.js and SVG to make interactive data stories, so I need to get better at JavaScript first.\n",
    "\n",
    "• **Publish past projects on my project page.** I have a handful of projects, including my senior project, that I want to put up. Some of them are only partially complete though, so the first step in this goal would be finishing up any loose ends. \n",
    "\n",
    "### Long Term Goals\n",
    "\n",
    "• **Keep up with data science.** This is the main purpose of this blog. Having a full time job and planning for a wedding has consumed a lot of my time. Because of this, I've been on and off with my data science learning. And like with any skill, practice is essential. I plan on completing projects related to what I'm learning at the time. Some topics that I plan on learning more about are NLP (natural language processing), neural networks, evolutionary algorithms, generative adversarial networks, reinforcement learning, and data visualization. \n",
    "\n",
    "• **Get better at web development.** Right now, Django is the framework I'm using for this site, primarily because of its functionality with Python. I'm not using it to its potential right now, so I plan on learning more of its features so that I can make my site quick, efficient, and appealing. Along with Django, I could improve on my HTML, CSS, and JavaScript abilities.\n",
    "\n",
    "• **Archive my work.** I've learned a lot and done a lot of projects in the past. Unfortunately, they're scattered deep in folders I've long since touched. I'd like to be able to showcase my work to others, as well as have a place that I can go to where I can look back at my past work. It'd also be really neat if somebody was able to leave my website having learned something new. "
   ]
  },
  {
   "cell_type": "markdown",
   "metadata": {},
   "source": [
    "## Thanks for visiting, I hope you enjoy your stay!"
   ]
  }
 ],
 "metadata": {
  "kernelspec": {
   "display_name": "Python 3",
   "language": "python",
   "name": "python3"
  },
  "language_info": {
   "codemirror_mode": {
    "name": "ipython",
    "version": 3
   },
   "file_extension": ".py",
   "mimetype": "text/x-python",
   "name": "python",
   "nbconvert_exporter": "python",
   "pygments_lexer": "ipython3",
   "version": "3.5.1"
  }
 },
 "nbformat": 4,
 "nbformat_minor": 1
}
