{
 "cells": [
  {
   "cell_type": "markdown",
   "metadata": {},
   "source": [
    "Hi! Thanks for visiting my website. It's been my main project for the past couple months and I'm really eager to get it started. "
   ]
  },
  {
   "cell_type": "markdown",
   "metadata": {},
   "source": [
    "## What I want to accomplish \n",
    "\n",
    "My website is still a work in progress and will continuously be improving as I learn what works and what doesn't. Ideally this website will be around for awhile, so I have some short term goals and long term goals in mind for it."
   ]
  },
  {
   "cell_type": "markdown",
   "metadata": {
    "collapsed": true
   },
   "source": [
    "### Short Term Goals\n",
    "\n",
    "* **Figure out how I want this website to look.** Part of this process is getting reacquainted with HTML and CSS. The last time that I was creating websites was in high school. I'm using Django as the framework because of its functionality with Python, but I could be switching to a different framework down the road. I want to keep the website looking somewhat simple, as I want to spend most of my time on projects.\n",
    "\n",
    "* **Create small JavaScript learning projects.** I want to make posts/pages that let users interact with them. I'll probably start off with small posts that try out different APIs and JavaScript libraries.\n",
    "\n",
    "* **Publish past projects on my project page.** I have a handful of projects, including my senior project, that I want to put up. Some of them are only partially complete though, so the first step in this goal will be finishing up any loose ends. \n",
    "\n",
    "### Long Term Goals\n",
    "\n",
    "* **Keep up with data science.** This is the main purpose of this blog. Having a full time job and planning for a wedding has consumed a lot of my time. Because of this, I've been on and off with my data science learning. And as with any skill, practice is essential. I plan on completing projects related to what I'm learning at the time. Some topics that I plan on learning more about are NLP (natural language processing), neural networks, evolutionary algorithms, generative adversarial networks, reinforcement learning, and data visualization. \n",
    "\n",
    "* **Get better at web development.** I'm definitely not using Django to its potential, so I plan on learning more of its features so that I can make my site quick, efficient, and appealing. Along with Django, I want to learn d3.js, React, and jQuery. That list might end up changing throughout the next few months. \n",
    "\n",
    "* **Archive my work.** I've learned a lot and done a lot of projects in the past 3-4 years. Unfortunately, a lot of the work is scattered deep in folders I've long since touched. I'd like to be able to showcase my work to others, as well as have a place that I can go to where I can look back at my past work. It'd be especially neat if someone was able to leave my site having learned something new."
   ]
  }
 ],
 "metadata": {
  "kernelspec": {
   "display_name": "Python 3",
   "language": "python",
   "name": "python3"
  },
  "language_info": {
   "codemirror_mode": {
    "name": "ipython",
    "version": 3
   },
   "file_extension": ".py",
   "mimetype": "text/x-python",
   "name": "python",
   "nbconvert_exporter": "python",
   "pygments_lexer": "ipython3",
   "version": "3.5.1"
  }
 },
 "nbformat": 4,
 "nbformat_minor": 1
}
